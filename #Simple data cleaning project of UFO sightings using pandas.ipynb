{
 "cells": [
  {
   "cell_type": "code",
   "execution_count": 1,
   "id": "00ef81a6",
   "metadata": {},
   "outputs": [],
   "source": [
    "import pandas as pd"
   ]
  },
  {
   "cell_type": "code",
   "execution_count": 2,
   "id": "86149393",
   "metadata": {},
   "outputs": [
    {
     "data": {
      "text/html": [
       "<div>\n",
       "<style scoped>\n",
       "    .dataframe tbody tr th:only-of-type {\n",
       "        vertical-align: middle;\n",
       "    }\n",
       "\n",
       "    .dataframe tbody tr th {\n",
       "        vertical-align: top;\n",
       "    }\n",
       "\n",
       "    .dataframe thead th {\n",
       "        text-align: right;\n",
       "    }\n",
       "</style>\n",
       "<table border=\"1\" class=\"dataframe\">\n",
       "  <thead>\n",
       "    <tr style=\"text-align: right;\">\n",
       "      <th></th>\n",
       "      <th>summary</th>\n",
       "      <th>city</th>\n",
       "      <th>state</th>\n",
       "      <th>date_time</th>\n",
       "      <th>shape</th>\n",
       "      <th>duration</th>\n",
       "      <th>stats</th>\n",
       "      <th>report_link</th>\n",
       "      <th>text</th>\n",
       "      <th>posted</th>\n",
       "      <th>city_latitude</th>\n",
       "      <th>city_longitude</th>\n",
       "    </tr>\n",
       "  </thead>\n",
       "  <tbody>\n",
       "    <tr>\n",
       "      <th>0</th>\n",
       "      <td>My wife was driving southeast on a fairly popu...</td>\n",
       "      <td>Chester</td>\n",
       "      <td>VA</td>\n",
       "      <td>2019-12-12T18:43:00</td>\n",
       "      <td>light</td>\n",
       "      <td>5 seconds</td>\n",
       "      <td>Occurred : 12/12/2019 18:43  (Entered as : 12/...</td>\n",
       "      <td>http://www.nuforc.org/webreports/151/S151739.html</td>\n",
       "      <td>My wife was driving southeast on a fairly popu...</td>\n",
       "      <td>2019-12-22T00:00:00</td>\n",
       "      <td>37.343152</td>\n",
       "      <td>-77.408582</td>\n",
       "    </tr>\n",
       "    <tr>\n",
       "      <th>1</th>\n",
       "      <td>I think that I may caught a UFO on the NBC Nig...</td>\n",
       "      <td>Rocky Hill</td>\n",
       "      <td>CT</td>\n",
       "      <td>2019-03-22T18:30:00</td>\n",
       "      <td>circle</td>\n",
       "      <td>3-5 seconds</td>\n",
       "      <td>Occurred : 3/22/2019 18:30  (Entered as : 03/2...</td>\n",
       "      <td>http://www.nuforc.org/webreports/145/S145297.html</td>\n",
       "      <td>I think that I may caught a UFO on the NBC Nig...</td>\n",
       "      <td>2019-03-29T00:00:00</td>\n",
       "      <td>41.664800</td>\n",
       "      <td>-72.639300</td>\n",
       "    </tr>\n",
       "    <tr>\n",
       "      <th>2</th>\n",
       "      <td>I woke up late in the afternoon 3:30-4pm. I we...</td>\n",
       "      <td>NaN</td>\n",
       "      <td>NaN</td>\n",
       "      <td>NaN</td>\n",
       "      <td>NaN</td>\n",
       "      <td>NaN</td>\n",
       "      <td>Occurred : 4/1/2019 15:45  (Entered as : April...</td>\n",
       "      <td>http://www.nuforc.org/webreports/145/S145556.html</td>\n",
       "      <td>I woke up late in the afternoon 3:30-4pm.  I w...</td>\n",
       "      <td>NaN</td>\n",
       "      <td>NaN</td>\n",
       "      <td>NaN</td>\n",
       "    </tr>\n",
       "    <tr>\n",
       "      <th>3</th>\n",
       "      <td>I was driving towards the intersection of fall...</td>\n",
       "      <td>Ottawa</td>\n",
       "      <td>ON</td>\n",
       "      <td>2019-04-17T02:00:00</td>\n",
       "      <td>teardrop</td>\n",
       "      <td>10 seconds</td>\n",
       "      <td>Occurred : 4/17/2019 02:00  (Entered as : 04-1...</td>\n",
       "      <td>http://www.nuforc.org/webreports/145/S145697.html</td>\n",
       "      <td>I was driving towards the intersection of fall...</td>\n",
       "      <td>2019-04-18T00:00:00</td>\n",
       "      <td>45.381383</td>\n",
       "      <td>-75.708501</td>\n",
       "    </tr>\n",
       "    <tr>\n",
       "      <th>4</th>\n",
       "      <td>In Peoria Arizona, I saw a cigar shaped craft ...</td>\n",
       "      <td>Peoria</td>\n",
       "      <td>NY</td>\n",
       "      <td>2009-03-15T18:00:00</td>\n",
       "      <td>cigar</td>\n",
       "      <td>2 minutes</td>\n",
       "      <td>Occurred : 3/15/2009 18:00  (Entered as : 03/1...</td>\n",
       "      <td>http://www.nuforc.org/webreports/145/S145723.html</td>\n",
       "      <td>In Peoria, Arizona, I saw a cigar shaped craft...</td>\n",
       "      <td>2019-04-18T00:00:00</td>\n",
       "      <td>NaN</td>\n",
       "      <td>NaN</td>\n",
       "    </tr>\n",
       "  </tbody>\n",
       "</table>\n",
       "</div>"
      ],
      "text/plain": [
       "                                             summary        city state  \\\n",
       "0  My wife was driving southeast on a fairly popu...     Chester    VA   \n",
       "1  I think that I may caught a UFO on the NBC Nig...  Rocky Hill    CT   \n",
       "2  I woke up late in the afternoon 3:30-4pm. I we...         NaN   NaN   \n",
       "3  I was driving towards the intersection of fall...      Ottawa    ON   \n",
       "4  In Peoria Arizona, I saw a cigar shaped craft ...      Peoria    NY   \n",
       "\n",
       "             date_time     shape     duration  \\\n",
       "0  2019-12-12T18:43:00     light    5 seconds   \n",
       "1  2019-03-22T18:30:00    circle  3-5 seconds   \n",
       "2                  NaN       NaN          NaN   \n",
       "3  2019-04-17T02:00:00  teardrop   10 seconds   \n",
       "4  2009-03-15T18:00:00     cigar    2 minutes   \n",
       "\n",
       "                                               stats  \\\n",
       "0  Occurred : 12/12/2019 18:43  (Entered as : 12/...   \n",
       "1  Occurred : 3/22/2019 18:30  (Entered as : 03/2...   \n",
       "2  Occurred : 4/1/2019 15:45  (Entered as : April...   \n",
       "3  Occurred : 4/17/2019 02:00  (Entered as : 04-1...   \n",
       "4  Occurred : 3/15/2009 18:00  (Entered as : 03/1...   \n",
       "\n",
       "                                         report_link  \\\n",
       "0  http://www.nuforc.org/webreports/151/S151739.html   \n",
       "1  http://www.nuforc.org/webreports/145/S145297.html   \n",
       "2  http://www.nuforc.org/webreports/145/S145556.html   \n",
       "3  http://www.nuforc.org/webreports/145/S145697.html   \n",
       "4  http://www.nuforc.org/webreports/145/S145723.html   \n",
       "\n",
       "                                                text               posted  \\\n",
       "0  My wife was driving southeast on a fairly popu...  2019-12-22T00:00:00   \n",
       "1  I think that I may caught a UFO on the NBC Nig...  2019-03-29T00:00:00   \n",
       "2  I woke up late in the afternoon 3:30-4pm.  I w...                  NaN   \n",
       "3  I was driving towards the intersection of fall...  2019-04-18T00:00:00   \n",
       "4  In Peoria, Arizona, I saw a cigar shaped craft...  2019-04-18T00:00:00   \n",
       "\n",
       "   city_latitude  city_longitude  \n",
       "0      37.343152      -77.408582  \n",
       "1      41.664800      -72.639300  \n",
       "2            NaN             NaN  \n",
       "3      45.381383      -75.708501  \n",
       "4            NaN             NaN  "
      ]
     },
     "execution_count": 2,
     "metadata": {},
     "output_type": "execute_result"
    }
   ],
   "source": [
    "df = pd.read_csv(\"nuforc_reports.csv\")\n",
    "df.head()"
   ]
  },
  {
   "cell_type": "code",
   "execution_count": 3,
   "id": "6beae706",
   "metadata": {},
   "outputs": [
    {
     "name": "stdout",
     "output_type": "stream",
     "text": [
      "<class 'pandas.core.frame.DataFrame'>\n",
      "RangeIndex: 88125 entries, 0 to 88124\n",
      "Data columns (total 12 columns):\n",
      " #   Column          Non-Null Count  Dtype  \n",
      "---  ------          --------------  -----  \n",
      " 0   summary         88095 non-null  object \n",
      " 1   city            87891 non-null  object \n",
      " 2   state           82890 non-null  object \n",
      " 3   date_time       86938 non-null  object \n",
      " 4   shape           85627 non-null  object \n",
      " 5   duration        84954 non-null  object \n",
      " 6   stats           88088 non-null  object \n",
      " 7   report_link     88125 non-null  object \n",
      " 8   text            88070 non-null  object \n",
      " 9   posted          86938 non-null  object \n",
      " 10  city_latitude   72013 non-null  float64\n",
      " 11  city_longitude  72013 non-null  float64\n",
      "dtypes: float64(2), object(10)\n",
      "memory usage: 8.1+ MB\n"
     ]
    }
   ],
   "source": [
    "df.info()"
   ]
  },
  {
   "cell_type": "code",
   "execution_count": null,
   "id": "e4fa14eb",
   "metadata": {},
   "outputs": [],
   "source": []
  },
  {
   "cell_type": "code",
   "execution_count": 4,
   "id": "229dfcfc",
   "metadata": {
    "scrolled": true
   },
   "outputs": [
    {
     "data": {
      "text/html": [
       "<div>\n",
       "<style scoped>\n",
       "    .dataframe tbody tr th:only-of-type {\n",
       "        vertical-align: middle;\n",
       "    }\n",
       "\n",
       "    .dataframe tbody tr th {\n",
       "        vertical-align: top;\n",
       "    }\n",
       "\n",
       "    .dataframe thead th {\n",
       "        text-align: right;\n",
       "    }\n",
       "</style>\n",
       "<table border=\"1\" class=\"dataframe\">\n",
       "  <thead>\n",
       "    <tr style=\"text-align: right;\">\n",
       "      <th></th>\n",
       "      <th>summary</th>\n",
       "      <th>city</th>\n",
       "      <th>state</th>\n",
       "      <th>date_time</th>\n",
       "      <th>shape</th>\n",
       "      <th>duration</th>\n",
       "      <th>stats</th>\n",
       "      <th>report_link</th>\n",
       "      <th>text</th>\n",
       "      <th>posted</th>\n",
       "      <th>city_latitude</th>\n",
       "      <th>city_longitude</th>\n",
       "    </tr>\n",
       "  </thead>\n",
       "  <tbody>\n",
       "    <tr>\n",
       "      <th>0</th>\n",
       "      <td>My wife was driving southeast on a fairly popu...</td>\n",
       "      <td>Chester</td>\n",
       "      <td>VA</td>\n",
       "      <td>2019-12-12 18:43:00</td>\n",
       "      <td>light</td>\n",
       "      <td>5 seconds</td>\n",
       "      <td>Occurred : 12/12/2019 18:43  (Entered as : 12/...</td>\n",
       "      <td>http://www.nuforc.org/webreports/151/S151739.html</td>\n",
       "      <td>My wife was driving southeast on a fairly popu...</td>\n",
       "      <td>2019-12-22</td>\n",
       "      <td>37.343152</td>\n",
       "      <td>-77.408582</td>\n",
       "    </tr>\n",
       "    <tr>\n",
       "      <th>1</th>\n",
       "      <td>I think that I may caught a UFO on the NBC Nig...</td>\n",
       "      <td>Rocky Hill</td>\n",
       "      <td>CT</td>\n",
       "      <td>2019-03-22 18:30:00</td>\n",
       "      <td>circle</td>\n",
       "      <td>3-5 seconds</td>\n",
       "      <td>Occurred : 3/22/2019 18:30  (Entered as : 03/2...</td>\n",
       "      <td>http://www.nuforc.org/webreports/145/S145297.html</td>\n",
       "      <td>I think that I may caught a UFO on the NBC Nig...</td>\n",
       "      <td>2019-03-29</td>\n",
       "      <td>41.664800</td>\n",
       "      <td>-72.639300</td>\n",
       "    </tr>\n",
       "    <tr>\n",
       "      <th>2</th>\n",
       "      <td>I woke up late in the afternoon 3:30-4pm. I we...</td>\n",
       "      <td>NaN</td>\n",
       "      <td>NaN</td>\n",
       "      <td>NaT</td>\n",
       "      <td>NaN</td>\n",
       "      <td>NaN</td>\n",
       "      <td>Occurred : 4/1/2019 15:45  (Entered as : April...</td>\n",
       "      <td>http://www.nuforc.org/webreports/145/S145556.html</td>\n",
       "      <td>I woke up late in the afternoon 3:30-4pm.  I w...</td>\n",
       "      <td>NaT</td>\n",
       "      <td>NaN</td>\n",
       "      <td>NaN</td>\n",
       "    </tr>\n",
       "    <tr>\n",
       "      <th>3</th>\n",
       "      <td>I was driving towards the intersection of fall...</td>\n",
       "      <td>Ottawa</td>\n",
       "      <td>ON</td>\n",
       "      <td>2019-04-17 02:00:00</td>\n",
       "      <td>teardrop</td>\n",
       "      <td>10 seconds</td>\n",
       "      <td>Occurred : 4/17/2019 02:00  (Entered as : 04-1...</td>\n",
       "      <td>http://www.nuforc.org/webreports/145/S145697.html</td>\n",
       "      <td>I was driving towards the intersection of fall...</td>\n",
       "      <td>2019-04-18</td>\n",
       "      <td>45.381383</td>\n",
       "      <td>-75.708501</td>\n",
       "    </tr>\n",
       "    <tr>\n",
       "      <th>4</th>\n",
       "      <td>In Peoria Arizona, I saw a cigar shaped craft ...</td>\n",
       "      <td>Peoria</td>\n",
       "      <td>NY</td>\n",
       "      <td>2009-03-15 18:00:00</td>\n",
       "      <td>cigar</td>\n",
       "      <td>2 minutes</td>\n",
       "      <td>Occurred : 3/15/2009 18:00  (Entered as : 03/1...</td>\n",
       "      <td>http://www.nuforc.org/webreports/145/S145723.html</td>\n",
       "      <td>In Peoria, Arizona, I saw a cigar shaped craft...</td>\n",
       "      <td>2019-04-18</td>\n",
       "      <td>NaN</td>\n",
       "      <td>NaN</td>\n",
       "    </tr>\n",
       "  </tbody>\n",
       "</table>\n",
       "</div>"
      ],
      "text/plain": [
       "                                             summary        city state  \\\n",
       "0  My wife was driving southeast on a fairly popu...     Chester    VA   \n",
       "1  I think that I may caught a UFO on the NBC Nig...  Rocky Hill    CT   \n",
       "2  I woke up late in the afternoon 3:30-4pm. I we...         NaN   NaN   \n",
       "3  I was driving towards the intersection of fall...      Ottawa    ON   \n",
       "4  In Peoria Arizona, I saw a cigar shaped craft ...      Peoria    NY   \n",
       "\n",
       "            date_time     shape     duration  \\\n",
       "0 2019-12-12 18:43:00     light    5 seconds   \n",
       "1 2019-03-22 18:30:00    circle  3-5 seconds   \n",
       "2                 NaT       NaN          NaN   \n",
       "3 2019-04-17 02:00:00  teardrop   10 seconds   \n",
       "4 2009-03-15 18:00:00     cigar    2 minutes   \n",
       "\n",
       "                                               stats  \\\n",
       "0  Occurred : 12/12/2019 18:43  (Entered as : 12/...   \n",
       "1  Occurred : 3/22/2019 18:30  (Entered as : 03/2...   \n",
       "2  Occurred : 4/1/2019 15:45  (Entered as : April...   \n",
       "3  Occurred : 4/17/2019 02:00  (Entered as : 04-1...   \n",
       "4  Occurred : 3/15/2009 18:00  (Entered as : 03/1...   \n",
       "\n",
       "                                         report_link  \\\n",
       "0  http://www.nuforc.org/webreports/151/S151739.html   \n",
       "1  http://www.nuforc.org/webreports/145/S145297.html   \n",
       "2  http://www.nuforc.org/webreports/145/S145556.html   \n",
       "3  http://www.nuforc.org/webreports/145/S145697.html   \n",
       "4  http://www.nuforc.org/webreports/145/S145723.html   \n",
       "\n",
       "                                                text     posted  \\\n",
       "0  My wife was driving southeast on a fairly popu... 2019-12-22   \n",
       "1  I think that I may caught a UFO on the NBC Nig... 2019-03-29   \n",
       "2  I woke up late in the afternoon 3:30-4pm.  I w...        NaT   \n",
       "3  I was driving towards the intersection of fall... 2019-04-18   \n",
       "4  In Peoria, Arizona, I saw a cigar shaped craft... 2019-04-18   \n",
       "\n",
       "   city_latitude  city_longitude  \n",
       "0      37.343152      -77.408582  \n",
       "1      41.664800      -72.639300  \n",
       "2            NaN             NaN  \n",
       "3      45.381383      -75.708501  \n",
       "4            NaN             NaN  "
      ]
     },
     "execution_count": 4,
     "metadata": {},
     "output_type": "execute_result"
    }
   ],
   "source": [
    "df = pd.read_csv(\"nuforc_reports.csv\", parse_dates=[\"date_time\", \"posted\"])\n",
    "df.head()"
   ]
  },
  {
   "cell_type": "code",
   "execution_count": 5,
   "id": "20678d37",
   "metadata": {},
   "outputs": [
    {
     "name": "stdout",
     "output_type": "stream",
     "text": [
      "<class 'pandas.core.frame.DataFrame'>\n",
      "RangeIndex: 88125 entries, 0 to 88124\n",
      "Data columns (total 12 columns):\n",
      " #   Column          Non-Null Count  Dtype         \n",
      "---  ------          --------------  -----         \n",
      " 0   summary         88095 non-null  object        \n",
      " 1   city            87891 non-null  object        \n",
      " 2   state           82890 non-null  object        \n",
      " 3   date_time       86938 non-null  datetime64[ns]\n",
      " 4   shape           85627 non-null  object        \n",
      " 5   duration        84954 non-null  object        \n",
      " 6   stats           88088 non-null  object        \n",
      " 7   report_link     88125 non-null  object        \n",
      " 8   text            88070 non-null  object        \n",
      " 9   posted          86938 non-null  datetime64[ns]\n",
      " 10  city_latitude   72013 non-null  float64       \n",
      " 11  city_longitude  72013 non-null  float64       \n",
      "dtypes: datetime64[ns](2), float64(2), object(8)\n",
      "memory usage: 8.1+ MB\n"
     ]
    }
   ],
   "source": [
    "df.info()"
   ]
  },
  {
   "cell_type": "code",
   "execution_count": 6,
   "id": "87052e28",
   "metadata": {},
   "outputs": [],
   "source": [
    "df.drop(columns=[\"stats\", \"text\"], inplace=True)"
   ]
  },
  {
   "cell_type": "code",
   "execution_count": 7,
   "id": "6b8fb9bf",
   "metadata": {},
   "outputs": [
    {
     "data": {
      "text/html": [
       "<div>\n",
       "<style scoped>\n",
       "    .dataframe tbody tr th:only-of-type {\n",
       "        vertical-align: middle;\n",
       "    }\n",
       "\n",
       "    .dataframe tbody tr th {\n",
       "        vertical-align: top;\n",
       "    }\n",
       "\n",
       "    .dataframe thead th {\n",
       "        text-align: right;\n",
       "    }\n",
       "</style>\n",
       "<table border=\"1\" class=\"dataframe\">\n",
       "  <thead>\n",
       "    <tr style=\"text-align: right;\">\n",
       "      <th></th>\n",
       "      <th>summary</th>\n",
       "      <th>city</th>\n",
       "      <th>state</th>\n",
       "      <th>date_time</th>\n",
       "      <th>shape</th>\n",
       "      <th>duration</th>\n",
       "      <th>report_link</th>\n",
       "      <th>posted</th>\n",
       "      <th>city_latitude</th>\n",
       "      <th>city_longitude</th>\n",
       "    </tr>\n",
       "  </thead>\n",
       "  <tbody>\n",
       "    <tr>\n",
       "      <th>0</th>\n",
       "      <td>My wife was driving southeast on a fairly popu...</td>\n",
       "      <td>Chester</td>\n",
       "      <td>VA</td>\n",
       "      <td>2019-12-12 18:43:00</td>\n",
       "      <td>light</td>\n",
       "      <td>5 seconds</td>\n",
       "      <td>http://www.nuforc.org/webreports/151/S151739.html</td>\n",
       "      <td>2019-12-22</td>\n",
       "      <td>37.343152</td>\n",
       "      <td>-77.408582</td>\n",
       "    </tr>\n",
       "    <tr>\n",
       "      <th>1</th>\n",
       "      <td>I think that I may caught a UFO on the NBC Nig...</td>\n",
       "      <td>Rocky Hill</td>\n",
       "      <td>CT</td>\n",
       "      <td>2019-03-22 18:30:00</td>\n",
       "      <td>circle</td>\n",
       "      <td>3-5 seconds</td>\n",
       "      <td>http://www.nuforc.org/webreports/145/S145297.html</td>\n",
       "      <td>2019-03-29</td>\n",
       "      <td>41.664800</td>\n",
       "      <td>-72.639300</td>\n",
       "    </tr>\n",
       "    <tr>\n",
       "      <th>2</th>\n",
       "      <td>I woke up late in the afternoon 3:30-4pm. I we...</td>\n",
       "      <td>NaN</td>\n",
       "      <td>NaN</td>\n",
       "      <td>NaT</td>\n",
       "      <td>NaN</td>\n",
       "      <td>NaN</td>\n",
       "      <td>http://www.nuforc.org/webreports/145/S145556.html</td>\n",
       "      <td>NaT</td>\n",
       "      <td>NaN</td>\n",
       "      <td>NaN</td>\n",
       "    </tr>\n",
       "    <tr>\n",
       "      <th>3</th>\n",
       "      <td>I was driving towards the intersection of fall...</td>\n",
       "      <td>Ottawa</td>\n",
       "      <td>ON</td>\n",
       "      <td>2019-04-17 02:00:00</td>\n",
       "      <td>teardrop</td>\n",
       "      <td>10 seconds</td>\n",
       "      <td>http://www.nuforc.org/webreports/145/S145697.html</td>\n",
       "      <td>2019-04-18</td>\n",
       "      <td>45.381383</td>\n",
       "      <td>-75.708501</td>\n",
       "    </tr>\n",
       "    <tr>\n",
       "      <th>4</th>\n",
       "      <td>In Peoria Arizona, I saw a cigar shaped craft ...</td>\n",
       "      <td>Peoria</td>\n",
       "      <td>NY</td>\n",
       "      <td>2009-03-15 18:00:00</td>\n",
       "      <td>cigar</td>\n",
       "      <td>2 minutes</td>\n",
       "      <td>http://www.nuforc.org/webreports/145/S145723.html</td>\n",
       "      <td>2019-04-18</td>\n",
       "      <td>NaN</td>\n",
       "      <td>NaN</td>\n",
       "    </tr>\n",
       "  </tbody>\n",
       "</table>\n",
       "</div>"
      ],
      "text/plain": [
       "                                             summary        city state  \\\n",
       "0  My wife was driving southeast on a fairly popu...     Chester    VA   \n",
       "1  I think that I may caught a UFO on the NBC Nig...  Rocky Hill    CT   \n",
       "2  I woke up late in the afternoon 3:30-4pm. I we...         NaN   NaN   \n",
       "3  I was driving towards the intersection of fall...      Ottawa    ON   \n",
       "4  In Peoria Arizona, I saw a cigar shaped craft ...      Peoria    NY   \n",
       "\n",
       "            date_time     shape     duration  \\\n",
       "0 2019-12-12 18:43:00     light    5 seconds   \n",
       "1 2019-03-22 18:30:00    circle  3-5 seconds   \n",
       "2                 NaT       NaN          NaN   \n",
       "3 2019-04-17 02:00:00  teardrop   10 seconds   \n",
       "4 2009-03-15 18:00:00     cigar    2 minutes   \n",
       "\n",
       "                                         report_link     posted  \\\n",
       "0  http://www.nuforc.org/webreports/151/S151739.html 2019-12-22   \n",
       "1  http://www.nuforc.org/webreports/145/S145297.html 2019-03-29   \n",
       "2  http://www.nuforc.org/webreports/145/S145556.html        NaT   \n",
       "3  http://www.nuforc.org/webreports/145/S145697.html 2019-04-18   \n",
       "4  http://www.nuforc.org/webreports/145/S145723.html 2019-04-18   \n",
       "\n",
       "   city_latitude  city_longitude  \n",
       "0      37.343152      -77.408582  \n",
       "1      41.664800      -72.639300  \n",
       "2            NaN             NaN  \n",
       "3      45.381383      -75.708501  \n",
       "4            NaN             NaN  "
      ]
     },
     "execution_count": 7,
     "metadata": {},
     "output_type": "execute_result"
    }
   ],
   "source": [
    "df.head()"
   ]
  },
  {
   "cell_type": "code",
   "execution_count": 8,
   "id": "b02d03f8",
   "metadata": {},
   "outputs": [
    {
     "name": "stdout",
     "output_type": "stream",
     "text": [
      "30\n",
      "88095\n"
     ]
    }
   ],
   "source": [
    "print(df[\"summary\"].isna().sum())\n",
    "print(df[\"summary\"].notna().sum())"
   ]
  },
  {
   "cell_type": "code",
   "execution_count": 9,
   "id": "7f8b05ec",
   "metadata": {},
   "outputs": [],
   "source": [
    "df[\"summary\"].fillna(\"No summary\", inplace=True)"
   ]
  },
  {
   "cell_type": "code",
   "execution_count": 10,
   "id": "b46dedb4",
   "metadata": {},
   "outputs": [],
   "source": [
    "df[\"summary\"] = df[\"summary\"].astype(\"string\")"
   ]
  },
  {
   "cell_type": "code",
   "execution_count": 11,
   "id": "da4af77e",
   "metadata": {},
   "outputs": [
    {
     "name": "stdout",
     "output_type": "stream",
     "text": [
      "234\n",
      "87891\n"
     ]
    }
   ],
   "source": [
    "print(df[\"city\"].isna().sum())\n",
    "print(df[\"city\"].notna().sum())"
   ]
  },
  {
   "cell_type": "code",
   "execution_count": 12,
   "id": "8a6aaaeb",
   "metadata": {},
   "outputs": [],
   "source": [
    "df[\"city\"].fillna(\"no name\", inplace=True)"
   ]
  },
  {
   "cell_type": "code",
   "execution_count": 13,
   "id": "795487d5",
   "metadata": {},
   "outputs": [],
   "source": [
    "df[\"city\"] = df[\"city\"].astype(\"string\")"
   ]
  },
  {
   "cell_type": "code",
   "execution_count": 14,
   "id": "4874c216",
   "metadata": {
    "scrolled": true
   },
   "outputs": [
    {
     "name": "stdout",
     "output_type": "stream",
     "text": [
      "5235\n",
      "82890\n"
     ]
    }
   ],
   "source": [
    "print(df[\"state\"].isna().sum())\n",
    "print(df[\"state\"].notna().sum())"
   ]
  },
  {
   "cell_type": "code",
   "execution_count": 15,
   "id": "08a01b0f",
   "metadata": {},
   "outputs": [],
   "source": [
    "df[\"state\"].fillna(\"no name\", inplace=True)"
   ]
  },
  {
   "cell_type": "code",
   "execution_count": 16,
   "id": "56d6dc1d",
   "metadata": {
    "scrolled": true
   },
   "outputs": [
    {
     "data": {
      "text/plain": [
       "<Axes: >"
      ]
     },
     "execution_count": 16,
     "metadata": {},
     "output_type": "execute_result"
    },
    {
     "data": {
      "image/png": "[encoded data removed]",
      "text/plain": [
       "<Figure size 640x480 with 1 Axes>"
      ]
     },
     "metadata": {},
     "output_type": "display_data"
    }
   ],
   "source": [
    "df[df[\"state\"]!= \"no name\"][\"state\"].value_counts().head(10).plot(kind=\"bar\")"
   ]
  },
  {
   "cell_type": "code",
   "execution_count": 17,
   "id": "4fb6a9f3",
   "metadata": {},
   "outputs": [],
   "source": [
    "df[\"state\"] = df[\"state\"].astype(\"string\")"
   ]
  },
  {
   "cell_type": "code",
   "execution_count": 18,
   "id": "7096e6ad",
   "metadata": {
    "scrolled": true
   },
   "outputs": [
    {
     "data": {
      "text/plain": [
       "NaT                    1187\n",
       "2015-11-07 18:00:00     104\n",
       "2014-07-04 22:00:00      46\n",
       "2010-07-04 22:00:00      37\n",
       "2012-07-04 22:00:00      34\n",
       "Name: date_time, dtype: int64"
      ]
     },
     "execution_count": 18,
     "metadata": {},
     "output_type": "execute_result"
    }
   ],
   "source": [
    "df[\"date_time\"].value_counts(dropna=False).head()"
   ]
  },
  {
   "cell_type": "code",
   "execution_count": 19,
   "id": "90022a4f",
   "metadata": {},
   "outputs": [],
   "source": [
    "df[\"year_sighted\"] = df[\"date_time\"].dt.year\n",
    "df[\"month_sighted\"] = df[\"date_time\"].dt.month\n",
    "df[\"day_sighted\"] = df[\"date_time\"].dt.day"
   ]
  },
  {
   "cell_type": "code",
   "execution_count": 20,
   "id": "66fc80d3",
   "metadata": {},
   "outputs": [
    {
     "data": {
      "text/plain": [
       "<Axes: >"
      ]
     },
     "execution_count": 20,
     "metadata": {},
     "output_type": "execute_result"
    },
    {
     "data": {
      "image/png": "[encoded data removed]",
      "text/plain": [
       "<Figure size 640x480 with 1 Axes>"
      ]
     },
     "metadata": {},
     "output_type": "display_data"
    }
   ],
   "source": [
    "df[\"year_sighted\"].value_counts().head(20).sort_index().plot(kind=\"bar\")"
   ]
  },
  {
   "cell_type": "code",
   "execution_count": 21,
   "id": "e29101dc",
   "metadata": {},
   "outputs": [
    {
     "name": "stdout",
     "output_type": "stream",
     "text": [
      "2498\n",
      "85627\n"
     ]
    }
   ],
   "source": [
    "print(df[\"shape\"].isna().sum())\n",
    "print(df[\"shape\"].notna().sum())"
   ]
  },
  {
   "cell_type": "code",
   "execution_count": 22,
   "id": "1378f39a",
   "metadata": {},
   "outputs": [
    {
     "data": {
      "text/plain": [
       "<Axes: >"
      ]
     },
     "execution_count": 22,
     "metadata": {},
     "output_type": "execute_result"
    },
    {
     "data": {
      "image/png": "[encoded data removed]",
      "text/plain": [
       "<Figure size 640x480 with 1 Axes>"
      ]
     },
     "metadata": {},
     "output_type": "display_data"
    }
   ],
   "source": [
    "df[\"shape\"].value_counts().head(10).plot(kind=\"bar\")"
   ]
  },
  {
   "cell_type": "code",
   "execution_count": 23,
   "id": "14120261",
   "metadata": {},
   "outputs": [],
   "source": [
    "df[\"shape\"].fillna(\"unknown\", inplace=True)"
   ]
  },
  {
   "cell_type": "code",
   "execution_count": 24,
   "id": "de663fd5",
   "metadata": {},
   "outputs": [
    {
     "data": {
      "text/plain": [
       "light       18230\n",
       "circle      10130\n",
       "unknown      8680\n",
       "triangle     7910\n",
       "fireball     7095\n",
       "Name: shape, dtype: int64"
      ]
     },
     "execution_count": 24,
     "metadata": {},
     "output_type": "execute_result"
    }
   ],
   "source": [
    "df[\"shape\"].value_counts(dropna=False).head()"
   ]
  },
  {
   "cell_type": "code",
   "execution_count": 25,
   "id": "6126f4c2",
   "metadata": {},
   "outputs": [],
   "source": [
    "df[\"shape\"] = df[\"shape\"].astype(\"string\")"
   ]
  },
  {
   "cell_type": "code",
   "execution_count": 26,
   "id": "b5403a4e",
   "metadata": {
    "scrolled": true
   },
   "outputs": [
    {
     "data": {
      "text/plain": [
       "5 minutes     6231\n",
       "2 minutes     4539\n",
       "10 minutes    4146\n",
       "1 minute      3628\n",
       "3 minutes     3396\n",
       "Name: duration, dtype: int64"
      ]
     },
     "execution_count": 26,
     "metadata": {},
     "output_type": "execute_result"
    }
   ],
   "source": [
    "df[\"duration\"].value_counts(dropna=False).head()"
   ]
  },
  {
   "cell_type": "code",
   "execution_count": 27,
   "id": "d1609419",
   "metadata": {},
   "outputs": [
    {
     "name": "stdout",
     "output_type": "stream",
     "text": [
      "3171\n",
      "84954\n"
     ]
    }
   ],
   "source": [
    "print(df[\"duration\"].isna().sum())\n",
    "print(df[\"duration\"].notna().sum())"
   ]
  },
  {
   "cell_type": "code",
   "execution_count": 28,
   "id": "ac21a905",
   "metadata": {},
   "outputs": [
    {
     "data": {
      "text/plain": [
       "5 minutes     6231\n",
       "2 minutes     4539\n",
       "10 minutes    4146\n",
       "1 minute      3628\n",
       "3 minutes     3396\n",
       "Name: duration, dtype: int64"
      ]
     },
     "execution_count": 28,
     "metadata": {},
     "output_type": "execute_result"
    }
   ],
   "source": [
    "df[\"duration\"].value_counts().head()"
   ]
  },
  {
   "cell_type": "code",
   "execution_count": 29,
   "id": "906eabae",
   "metadata": {},
   "outputs": [],
   "source": [
    "def abbrv(time):\n",
    "    return time.group()[0]"
   ]
  },
  {
   "cell_type": "code",
   "execution_count": 30,
   "id": "2de4cc76",
   "metadata": {},
   "outputs": [],
   "source": [
    "df[\"duration\"]=df[\"duration\"].str.lower()"
   ]
  },
  {
   "cell_type": "code",
   "execution_count": 31,
   "id": "61ed005d",
   "metadata": {},
   "outputs": [
    {
     "data": {
      "text/plain": [
       "0          5 s\n",
       "1        3-5 s\n",
       "2          NaN\n",
       "3         10 s\n",
       "4          2 m\n",
       "         ...  \n",
       "88120      3 m\n",
       "88121     20 s\n",
       "88122     20 s\n",
       "88123      2 m\n",
       "88124      3 m\n",
       "Name: duration, Length: 88125, dtype: object"
      ]
     },
     "execution_count": 31,
     "metadata": {},
     "output_type": "execute_result"
    }
   ],
   "source": [
    "df[\"duration\"].str.replace(\"seconds|minutes|minute|secs|mins|secs.|hour|month|week\",abbrv, regex=True)"
   ]
  },
  {
   "cell_type": "code",
   "execution_count": 32,
   "id": "6c521f7d",
   "metadata": {},
   "outputs": [],
   "source": [
    "#the formats are too many to fill\n",
    "df[\"duration\"]=df[\"duration\"].str.replace(\"3-5\",\"4\", regex=True)\n",
    "df[\"duration\"]=df[\"duration\"].str.replace(\"19:00 to 19:40\",\"40 m\", regex=True)"
   ]
  },
  {
   "cell_type": "code",
   "execution_count": null,
   "id": "8a4af871",
   "metadata": {},
   "outputs": [],
   "source": [
    "df[\"duration\"] = df[\"duration\"].astype(\"string\")"
   ]
  },
  {
   "cell_type": "code",
   "execution_count": 34,
   "id": "a40eb139",
   "metadata": {},
   "outputs": [
    {
     "data": {
      "text/html": [
       "<div>\n",
       "<style scoped>\n",
       "    .dataframe tbody tr th:only-of-type {\n",
       "        vertical-align: middle;\n",
       "    }\n",
       "\n",
       "    .dataframe tbody tr th {\n",
       "        vertical-align: top;\n",
       "    }\n",
       "\n",
       "    .dataframe thead th {\n",
       "        text-align: right;\n",
       "    }\n",
       "</style>\n",
       "<table border=\"1\" class=\"dataframe\">\n",
       "  <thead>\n",
       "    <tr style=\"text-align: right;\">\n",
       "      <th></th>\n",
       "      <th>summary</th>\n",
       "      <th>city</th>\n",
       "      <th>state</th>\n",
       "      <th>date_time</th>\n",
       "      <th>shape</th>\n",
       "      <th>duration</th>\n",
       "      <th>report_link</th>\n",
       "      <th>posted</th>\n",
       "      <th>city_latitude</th>\n",
       "      <th>city_longitude</th>\n",
       "      <th>year_sighted</th>\n",
       "      <th>month_sighted</th>\n",
       "      <th>day_sighted</th>\n",
       "      <th>date_sighted</th>\n",
       "    </tr>\n",
       "  </thead>\n",
       "  <tbody>\n",
       "    <tr>\n",
       "      <th>0</th>\n",
       "      <td>My wife was driving southeast on a fairly popu...</td>\n",
       "      <td>Chester</td>\n",
       "      <td>VA</td>\n",
       "      <td>2019-12-12 18:43:00</td>\n",
       "      <td>light</td>\n",
       "      <td>5 seconds</td>\n",
       "      <td>http://www.nuforc.org/webreports/151/S151739.html</td>\n",
       "      <td>2019-12-22</td>\n",
       "      <td>37.343152</td>\n",
       "      <td>-77.408582</td>\n",
       "      <td>2019.0</td>\n",
       "      <td>12.0</td>\n",
       "      <td>12.0</td>\n",
       "      <td>2019-12-12</td>\n",
       "    </tr>\n",
       "    <tr>\n",
       "      <th>1</th>\n",
       "      <td>I think that I may caught a UFO on the NBC Nig...</td>\n",
       "      <td>Rocky Hill</td>\n",
       "      <td>CT</td>\n",
       "      <td>2019-03-22 18:30:00</td>\n",
       "      <td>circle</td>\n",
       "      <td>4 seconds</td>\n",
       "      <td>http://www.nuforc.org/webreports/145/S145297.html</td>\n",
       "      <td>2019-03-29</td>\n",
       "      <td>41.664800</td>\n",
       "      <td>-72.639300</td>\n",
       "      <td>2019.0</td>\n",
       "      <td>3.0</td>\n",
       "      <td>22.0</td>\n",
       "      <td>2019-03-22</td>\n",
       "    </tr>\n",
       "    <tr>\n",
       "      <th>2</th>\n",
       "      <td>I woke up late in the afternoon 3:30-4pm. I we...</td>\n",
       "      <td>no name</td>\n",
       "      <td>no name</td>\n",
       "      <td>NaT</td>\n",
       "      <td>unknown</td>\n",
       "      <td>NaN</td>\n",
       "      <td>http://www.nuforc.org/webreports/145/S145556.html</td>\n",
       "      <td>NaT</td>\n",
       "      <td>NaN</td>\n",
       "      <td>NaN</td>\n",
       "      <td>NaN</td>\n",
       "      <td>NaN</td>\n",
       "      <td>NaN</td>\n",
       "      <td>NaT</td>\n",
       "    </tr>\n",
       "    <tr>\n",
       "      <th>3</th>\n",
       "      <td>I was driving towards the intersection of fall...</td>\n",
       "      <td>Ottawa</td>\n",
       "      <td>ON</td>\n",
       "      <td>2019-04-17 02:00:00</td>\n",
       "      <td>teardrop</td>\n",
       "      <td>10 seconds</td>\n",
       "      <td>http://www.nuforc.org/webreports/145/S145697.html</td>\n",
       "      <td>2019-04-18</td>\n",
       "      <td>45.381383</td>\n",
       "      <td>-75.708501</td>\n",
       "      <td>2019.0</td>\n",
       "      <td>4.0</td>\n",
       "      <td>17.0</td>\n",
       "      <td>2019-04-17</td>\n",
       "    </tr>\n",
       "    <tr>\n",
       "      <th>4</th>\n",
       "      <td>In Peoria Arizona, I saw a cigar shaped craft ...</td>\n",
       "      <td>Peoria</td>\n",
       "      <td>NY</td>\n",
       "      <td>2009-03-15 18:00:00</td>\n",
       "      <td>cigar</td>\n",
       "      <td>2 minutes</td>\n",
       "      <td>http://www.nuforc.org/webreports/145/S145723.html</td>\n",
       "      <td>2019-04-18</td>\n",
       "      <td>NaN</td>\n",
       "      <td>NaN</td>\n",
       "      <td>2009.0</td>\n",
       "      <td>3.0</td>\n",
       "      <td>15.0</td>\n",
       "      <td>2009-03-15</td>\n",
       "    </tr>\n",
       "    <tr>\n",
       "      <th>...</th>\n",
       "      <td>...</td>\n",
       "      <td>...</td>\n",
       "      <td>...</td>\n",
       "      <td>...</td>\n",
       "      <td>...</td>\n",
       "      <td>...</td>\n",
       "      <td>...</td>\n",
       "      <td>...</td>\n",
       "      <td>...</td>\n",
       "      <td>...</td>\n",
       "      <td>...</td>\n",
       "      <td>...</td>\n",
       "      <td>...</td>\n",
       "      <td>...</td>\n",
       "    </tr>\n",
       "    <tr>\n",
       "      <th>88120</th>\n",
       "      <td>4 lights in formation over Tempe appear while ...</td>\n",
       "      <td>Tempe</td>\n",
       "      <td>AZ</td>\n",
       "      <td>2019-10-02 20:00:00</td>\n",
       "      <td>formation</td>\n",
       "      <td>3 minutes</td>\n",
       "      <td>http://www.nuforc.org/webreports/149/S149463.html</td>\n",
       "      <td>2019-10-04</td>\n",
       "      <td>33.414036</td>\n",
       "      <td>-111.920920</td>\n",
       "      <td>2019.0</td>\n",
       "      <td>10.0</td>\n",
       "      <td>2.0</td>\n",
       "      <td>2019-10-02</td>\n",
       "    </tr>\n",
       "    <tr>\n",
       "      <th>88121</th>\n",
       "      <td>2 bright star like lights in the NNW skys,  ((...</td>\n",
       "      <td>Bolivar</td>\n",
       "      <td>MO</td>\n",
       "      <td>2019-10-02 20:00:00</td>\n",
       "      <td>light</td>\n",
       "      <td>20 seconds</td>\n",
       "      <td>http://www.nuforc.org/webreports/149/S149405.html</td>\n",
       "      <td>2019-10-04</td>\n",
       "      <td>37.642200</td>\n",
       "      <td>-93.399600</td>\n",
       "      <td>2019.0</td>\n",
       "      <td>10.0</td>\n",
       "      <td>2.0</td>\n",
       "      <td>2019-10-02</td>\n",
       "    </tr>\n",
       "    <tr>\n",
       "      <th>88122</th>\n",
       "      <td>I just witnessed a ‘Phoenix Lights’ type of fo...</td>\n",
       "      <td>North Port</td>\n",
       "      <td>FL</td>\n",
       "      <td>2019-10-02 20:03:00</td>\n",
       "      <td>formation</td>\n",
       "      <td>20 seconds</td>\n",
       "      <td>http://www.nuforc.org/webreports/149/S149424.html</td>\n",
       "      <td>2019-10-04</td>\n",
       "      <td>27.076210</td>\n",
       "      <td>-82.223280</td>\n",
       "      <td>2019.0</td>\n",
       "      <td>10.0</td>\n",
       "      <td>2.0</td>\n",
       "      <td>2019-10-02</td>\n",
       "    </tr>\n",
       "    <tr>\n",
       "      <th>88123</th>\n",
       "      <td>Witnessed an orange, slow moving light. Was lo...</td>\n",
       "      <td>Black Mountain</td>\n",
       "      <td>NC</td>\n",
       "      <td>2019-10-02 22:00:00</td>\n",
       "      <td>fireball</td>\n",
       "      <td>2 minutes</td>\n",
       "      <td>http://www.nuforc.org/webreports/149/S149447.html</td>\n",
       "      <td>2019-10-04</td>\n",
       "      <td>35.605000</td>\n",
       "      <td>-82.313200</td>\n",
       "      <td>2019.0</td>\n",
       "      <td>10.0</td>\n",
       "      <td>2.0</td>\n",
       "      <td>2019-10-02</td>\n",
       "    </tr>\n",
       "    <tr>\n",
       "      <th>88124</th>\n",
       "      <td>Glowing lights in formation  just south of San...</td>\n",
       "      <td>Marin County</td>\n",
       "      <td>CA</td>\n",
       "      <td>2019-10-02 22:00:00</td>\n",
       "      <td>sphere</td>\n",
       "      <td>3 minutes</td>\n",
       "      <td>http://www.nuforc.org/webreports/149/S149436.html</td>\n",
       "      <td>2019-10-04</td>\n",
       "      <td>NaN</td>\n",
       "      <td>NaN</td>\n",
       "      <td>2019.0</td>\n",
       "      <td>10.0</td>\n",
       "      <td>2.0</td>\n",
       "      <td>2019-10-02</td>\n",
       "    </tr>\n",
       "  </tbody>\n",
       "</table>\n",
       "<p>88125 rows × 14 columns</p>\n",
       "</div>"
      ],
      "text/plain": [
       "                                                 summary            city  \\\n",
       "0      My wife was driving southeast on a fairly popu...         Chester   \n",
       "1      I think that I may caught a UFO on the NBC Nig...      Rocky Hill   \n",
       "2      I woke up late in the afternoon 3:30-4pm. I we...         no name   \n",
       "3      I was driving towards the intersection of fall...          Ottawa   \n",
       "4      In Peoria Arizona, I saw a cigar shaped craft ...          Peoria   \n",
       "...                                                  ...             ...   \n",
       "88120  4 lights in formation over Tempe appear while ...           Tempe   \n",
       "88121  2 bright star like lights in the NNW skys,  ((...         Bolivar   \n",
       "88122  I just witnessed a ‘Phoenix Lights’ type of fo...      North Port   \n",
       "88123  Witnessed an orange, slow moving light. Was lo...  Black Mountain   \n",
       "88124  Glowing lights in formation  just south of San...    Marin County   \n",
       "\n",
       "         state           date_time      shape    duration  \\\n",
       "0           VA 2019-12-12 18:43:00      light   5 seconds   \n",
       "1           CT 2019-03-22 18:30:00     circle   4 seconds   \n",
       "2      no name                 NaT    unknown         NaN   \n",
       "3           ON 2019-04-17 02:00:00   teardrop  10 seconds   \n",
       "4           NY 2009-03-15 18:00:00      cigar   2 minutes   \n",
       "...        ...                 ...        ...         ...   \n",
       "88120       AZ 2019-10-02 20:00:00  formation   3 minutes   \n",
       "88121       MO 2019-10-02 20:00:00      light  20 seconds   \n",
       "88122       FL 2019-10-02 20:03:00  formation  20 seconds   \n",
       "88123       NC 2019-10-02 22:00:00   fireball   2 minutes   \n",
       "88124       CA 2019-10-02 22:00:00     sphere   3 minutes   \n",
       "\n",
       "                                             report_link     posted  \\\n",
       "0      http://www.nuforc.org/webreports/151/S151739.html 2019-12-22   \n",
       "1      http://www.nuforc.org/webreports/145/S145297.html 2019-03-29   \n",
       "2      http://www.nuforc.org/webreports/145/S145556.html        NaT   \n",
       "3      http://www.nuforc.org/webreports/145/S145697.html 2019-04-18   \n",
       "4      http://www.nuforc.org/webreports/145/S145723.html 2019-04-18   \n",
       "...                                                  ...        ...   \n",
       "88120  http://www.nuforc.org/webreports/149/S149463.html 2019-10-04   \n",
       "88121  http://www.nuforc.org/webreports/149/S149405.html 2019-10-04   \n",
       "88122  http://www.nuforc.org/webreports/149/S149424.html 2019-10-04   \n",
       "88123  http://www.nuforc.org/webreports/149/S149447.html 2019-10-04   \n",
       "88124  http://www.nuforc.org/webreports/149/S149436.html 2019-10-04   \n",
       "\n",
       "       city_latitude  city_longitude  year_sighted  month_sighted  \\\n",
       "0          37.343152      -77.408582        2019.0           12.0   \n",
       "1          41.664800      -72.639300        2019.0            3.0   \n",
       "2                NaN             NaN           NaN            NaN   \n",
       "3          45.381383      -75.708501        2019.0            4.0   \n",
       "4                NaN             NaN        2009.0            3.0   \n",
       "...              ...             ...           ...            ...   \n",
       "88120      33.414036     -111.920920        2019.0           10.0   \n",
       "88121      37.642200      -93.399600        2019.0           10.0   \n",
       "88122      27.076210      -82.223280        2019.0           10.0   \n",
       "88123      35.605000      -82.313200        2019.0           10.0   \n",
       "88124            NaN             NaN        2019.0           10.0   \n",
       "\n",
       "       day_sighted date_sighted  \n",
       "0             12.0   2019-12-12  \n",
       "1             22.0   2019-03-22  \n",
       "2              NaN          NaT  \n",
       "3             17.0   2019-04-17  \n",
       "4             15.0   2009-03-15  \n",
       "...            ...          ...  \n",
       "88120          2.0   2019-10-02  \n",
       "88121          2.0   2019-10-02  \n",
       "88122          2.0   2019-10-02  \n",
       "88123          2.0   2019-10-02  \n",
       "88124          2.0   2019-10-02  \n",
       "\n",
       "[88125 rows x 14 columns]"
      ]
     },
     "execution_count": 34,
     "metadata": {},
     "output_type": "execute_result"
    }
   ],
   "source": [
    "df"
   ]
  },
  {
   "cell_type": "code",
   "execution_count": 35,
   "id": "46293e44",
   "metadata": {},
   "outputs": [],
   "source": [
    "df[\"report_link\"]=df[\"report_link\"].str.strip(\"http://www.nuforc.org/webreports/\")\n",
    "df[\"report_link\"]=df[\"report_link\"].str.strip(\".html\")"
   ]
  },
  {
   "cell_type": "code",
   "execution_count": 36,
   "id": "3142cb7e",
   "metadata": {},
   "outputs": [],
   "source": [
    "df[\"report_link\"] = df[\"report_link\"].astype(\"string\")"
   ]
  },
  {
   "cell_type": "code",
   "execution_count": 37,
   "id": "23e0575f",
   "metadata": {
    "scrolled": true
   },
   "outputs": [
    {
     "data": {
      "text/html": [
       "<div>\n",
       "<style scoped>\n",
       "    .dataframe tbody tr th:only-of-type {\n",
       "        vertical-align: middle;\n",
       "    }\n",
       "\n",
       "    .dataframe tbody tr th {\n",
       "        vertical-align: top;\n",
       "    }\n",
       "\n",
       "    .dataframe thead th {\n",
       "        text-align: right;\n",
       "    }\n",
       "</style>\n",
       "<table border=\"1\" class=\"dataframe\">\n",
       "  <thead>\n",
       "    <tr style=\"text-align: right;\">\n",
       "      <th></th>\n",
       "      <th>summary</th>\n",
       "      <th>city</th>\n",
       "      <th>state</th>\n",
       "      <th>date_time</th>\n",
       "      <th>shape</th>\n",
       "      <th>duration</th>\n",
       "      <th>report_link</th>\n",
       "      <th>posted</th>\n",
       "      <th>city_latitude</th>\n",
       "      <th>city_longitude</th>\n",
       "      <th>year_sighted</th>\n",
       "      <th>month_sighted</th>\n",
       "      <th>day_sighted</th>\n",
       "      <th>date_sighted</th>\n",
       "    </tr>\n",
       "  </thead>\n",
       "  <tbody>\n",
       "    <tr>\n",
       "      <th>0</th>\n",
       "      <td>My wife was driving southeast on a fairly popu...</td>\n",
       "      <td>Chester</td>\n",
       "      <td>VA</td>\n",
       "      <td>2019-12-12 18:43:00</td>\n",
       "      <td>light</td>\n",
       "      <td>5 seconds</td>\n",
       "      <td>151/S151739</td>\n",
       "      <td>2019-12-22</td>\n",
       "      <td>37.343152</td>\n",
       "      <td>-77.408582</td>\n",
       "      <td>2019.0</td>\n",
       "      <td>12.0</td>\n",
       "      <td>12.0</td>\n",
       "      <td>2019-12-12</td>\n",
       "    </tr>\n",
       "    <tr>\n",
       "      <th>1</th>\n",
       "      <td>I think that I may caught a UFO on the NBC Nig...</td>\n",
       "      <td>Rocky Hill</td>\n",
       "      <td>CT</td>\n",
       "      <td>2019-03-22 18:30:00</td>\n",
       "      <td>circle</td>\n",
       "      <td>4 seconds</td>\n",
       "      <td>145/S145297</td>\n",
       "      <td>2019-03-29</td>\n",
       "      <td>41.664800</td>\n",
       "      <td>-72.639300</td>\n",
       "      <td>2019.0</td>\n",
       "      <td>3.0</td>\n",
       "      <td>22.0</td>\n",
       "      <td>2019-03-22</td>\n",
       "    </tr>\n",
       "    <tr>\n",
       "      <th>2</th>\n",
       "      <td>I woke up late in the afternoon 3:30-4pm. I we...</td>\n",
       "      <td>no name</td>\n",
       "      <td>no name</td>\n",
       "      <td>NaT</td>\n",
       "      <td>unknown</td>\n",
       "      <td>NaN</td>\n",
       "      <td>145/S145556</td>\n",
       "      <td>NaT</td>\n",
       "      <td>NaN</td>\n",
       "      <td>NaN</td>\n",
       "      <td>NaN</td>\n",
       "      <td>NaN</td>\n",
       "      <td>NaN</td>\n",
       "      <td>NaT</td>\n",
       "    </tr>\n",
       "    <tr>\n",
       "      <th>3</th>\n",
       "      <td>I was driving towards the intersection of fall...</td>\n",
       "      <td>Ottawa</td>\n",
       "      <td>ON</td>\n",
       "      <td>2019-04-17 02:00:00</td>\n",
       "      <td>teardrop</td>\n",
       "      <td>10 seconds</td>\n",
       "      <td>145/S145697</td>\n",
       "      <td>2019-04-18</td>\n",
       "      <td>45.381383</td>\n",
       "      <td>-75.708501</td>\n",
       "      <td>2019.0</td>\n",
       "      <td>4.0</td>\n",
       "      <td>17.0</td>\n",
       "      <td>2019-04-17</td>\n",
       "    </tr>\n",
       "    <tr>\n",
       "      <th>4</th>\n",
       "      <td>In Peoria Arizona, I saw a cigar shaped craft ...</td>\n",
       "      <td>Peoria</td>\n",
       "      <td>NY</td>\n",
       "      <td>2009-03-15 18:00:00</td>\n",
       "      <td>cigar</td>\n",
       "      <td>2 minutes</td>\n",
       "      <td>145/S145723</td>\n",
       "      <td>2019-04-18</td>\n",
       "      <td>NaN</td>\n",
       "      <td>NaN</td>\n",
       "      <td>2009.0</td>\n",
       "      <td>3.0</td>\n",
       "      <td>15.0</td>\n",
       "      <td>2009-03-15</td>\n",
       "    </tr>\n",
       "  </tbody>\n",
       "</table>\n",
       "</div>"
      ],
      "text/plain": [
       "                                             summary        city    state  \\\n",
       "0  My wife was driving southeast on a fairly popu...     Chester       VA   \n",
       "1  I think that I may caught a UFO on the NBC Nig...  Rocky Hill       CT   \n",
       "2  I woke up late in the afternoon 3:30-4pm. I we...     no name  no name   \n",
       "3  I was driving towards the intersection of fall...      Ottawa       ON   \n",
       "4  In Peoria Arizona, I saw a cigar shaped craft ...      Peoria       NY   \n",
       "\n",
       "            date_time     shape    duration  report_link     posted  \\\n",
       "0 2019-12-12 18:43:00     light   5 seconds  151/S151739 2019-12-22   \n",
       "1 2019-03-22 18:30:00    circle   4 seconds  145/S145297 2019-03-29   \n",
       "2                 NaT   unknown         NaN  145/S145556        NaT   \n",
       "3 2019-04-17 02:00:00  teardrop  10 seconds  145/S145697 2019-04-18   \n",
       "4 2009-03-15 18:00:00     cigar   2 minutes  145/S145723 2019-04-18   \n",
       "\n",
       "   city_latitude  city_longitude  year_sighted  month_sighted  day_sighted  \\\n",
       "0      37.343152      -77.408582        2019.0           12.0         12.0   \n",
       "1      41.664800      -72.639300        2019.0            3.0         22.0   \n",
       "2            NaN             NaN           NaN            NaN          NaN   \n",
       "3      45.381383      -75.708501        2019.0            4.0         17.0   \n",
       "4            NaN             NaN        2009.0            3.0         15.0   \n",
       "\n",
       "  date_sighted  \n",
       "0   2019-12-12  \n",
       "1   2019-03-22  \n",
       "2          NaT  \n",
       "3   2019-04-17  \n",
       "4   2009-03-15  "
      ]
     },
     "execution_count": 37,
     "metadata": {},
     "output_type": "execute_result"
    }
   ],
   "source": [
    "df.head()"
   ]
  },
  {
   "cell_type": "code",
   "execution_count": 38,
   "id": "f1248a5f",
   "metadata": {},
   "outputs": [
    {
     "name": "stdout",
     "output_type": "stream",
     "text": [
      "16112\n",
      "72013\n",
      "16112\n",
      "72013\n"
     ]
    }
   ],
   "source": [
    "print(df[\"city_latitude\"].isna().sum())\n",
    "print(df[\"city_latitude\"].notna().sum())\n",
    "print(df[\"city_longitude\"].isna().sum())\n",
    "print(df[\"city_longitude\"].notna().sum())"
   ]
  },
  {
   "cell_type": "code",
   "execution_count": 39,
   "id": "036d3c7d",
   "metadata": {},
   "outputs": [
    {
     "name": "stdout",
     "output_type": "stream",
     "text": [
      "<class 'pandas.core.frame.DataFrame'>\n",
      "RangeIndex: 88125 entries, 0 to 88124\n",
      "Data columns (total 14 columns):\n",
      " #   Column          Non-Null Count  Dtype         \n",
      "---  ------          --------------  -----         \n",
      " 0   summary         88125 non-null  string        \n",
      " 1   city            88125 non-null  string        \n",
      " 2   state           88125 non-null  string        \n",
      " 3   date_time       86938 non-null  datetime64[ns]\n",
      " 4   shape           88125 non-null  string        \n",
      " 5   duration        84954 non-null  object        \n",
      " 6   report_link     88125 non-null  string        \n",
      " 7   posted          86938 non-null  datetime64[ns]\n",
      " 8   city_latitude   72013 non-null  float64       \n",
      " 9   city_longitude  72013 non-null  float64       \n",
      " 10  year_sighted    86938 non-null  float64       \n",
      " 11  month_sighted   86938 non-null  float64       \n",
      " 12  day_sighted     86938 non-null  float64       \n",
      " 13  date_sighted    86938 non-null  object        \n",
      "dtypes: datetime64[ns](2), float64(5), object(2), string(5)\n",
      "memory usage: 9.4+ MB\n"
     ]
    }
   ],
   "source": [
    "df.info()"
   ]
  },
  {
   "cell_type": "code",
   "execution_count": 47,
   "id": "5910af44",
   "metadata": {},
   "outputs": [
    {
     "data": {
      "text/plain": [
       "71184"
      ]
     },
     "execution_count": 47,
     "metadata": {},
     "output_type": "execute_result"
    }
   ],
   "source": [
    "len(df[((df[\"city_latitude\"].notna()) | (df[\"city_longitude\"].notna())) & (df[\"date_time\"].notna()) & ((df[\"state\"]!=\"no name\") | (df[\"city\"]!=\"no name\"))])"
   ]
  },
  {
   "cell_type": "code",
   "execution_count": 41,
   "id": "1a500b75",
   "metadata": {},
   "outputs": [
    {
     "data": {
      "text/html": [
       "<div>\n",
       "<style scoped>\n",
       "    .dataframe tbody tr th:only-of-type {\n",
       "        vertical-align: middle;\n",
       "    }\n",
       "\n",
       "    .dataframe tbody tr th {\n",
       "        vertical-align: top;\n",
       "    }\n",
       "\n",
       "    .dataframe thead th {\n",
       "        text-align: right;\n",
       "    }\n",
       "</style>\n",
       "<table border=\"1\" class=\"dataframe\">\n",
       "  <thead>\n",
       "    <tr style=\"text-align: right;\">\n",
       "      <th></th>\n",
       "      <th>summary</th>\n",
       "      <th>city</th>\n",
       "      <th>state</th>\n",
       "      <th>date_time</th>\n",
       "      <th>shape</th>\n",
       "      <th>duration</th>\n",
       "      <th>report_link</th>\n",
       "      <th>posted</th>\n",
       "      <th>city_latitude</th>\n",
       "      <th>city_longitude</th>\n",
       "      <th>year_sighted</th>\n",
       "      <th>month_sighted</th>\n",
       "      <th>day_sighted</th>\n",
       "      <th>date_sighted</th>\n",
       "    </tr>\n",
       "  </thead>\n",
       "  <tbody>\n",
       "    <tr>\n",
       "      <th>0</th>\n",
       "      <td>My wife was driving southeast on a fairly popu...</td>\n",
       "      <td>Chester</td>\n",
       "      <td>VA</td>\n",
       "      <td>2019-12-12 18:43:00</td>\n",
       "      <td>light</td>\n",
       "      <td>5 seconds</td>\n",
       "      <td>151/S151739</td>\n",
       "      <td>2019-12-22</td>\n",
       "      <td>37.343152</td>\n",
       "      <td>-77.408582</td>\n",
       "      <td>2019.0</td>\n",
       "      <td>12.0</td>\n",
       "      <td>12.0</td>\n",
       "      <td>2019-12-12</td>\n",
       "    </tr>\n",
       "    <tr>\n",
       "      <th>1</th>\n",
       "      <td>I think that I may caught a UFO on the NBC Nig...</td>\n",
       "      <td>Rocky Hill</td>\n",
       "      <td>CT</td>\n",
       "      <td>2019-03-22 18:30:00</td>\n",
       "      <td>circle</td>\n",
       "      <td>4 seconds</td>\n",
       "      <td>145/S145297</td>\n",
       "      <td>2019-03-29</td>\n",
       "      <td>41.664800</td>\n",
       "      <td>-72.639300</td>\n",
       "      <td>2019.0</td>\n",
       "      <td>3.0</td>\n",
       "      <td>22.0</td>\n",
       "      <td>2019-03-22</td>\n",
       "    </tr>\n",
       "    <tr>\n",
       "      <th>3</th>\n",
       "      <td>I was driving towards the intersection of fall...</td>\n",
       "      <td>Ottawa</td>\n",
       "      <td>ON</td>\n",
       "      <td>2019-04-17 02:00:00</td>\n",
       "      <td>teardrop</td>\n",
       "      <td>10 seconds</td>\n",
       "      <td>145/S145697</td>\n",
       "      <td>2019-04-18</td>\n",
       "      <td>45.381383</td>\n",
       "      <td>-75.708501</td>\n",
       "      <td>2019.0</td>\n",
       "      <td>4.0</td>\n",
       "      <td>17.0</td>\n",
       "      <td>2019-04-17</td>\n",
       "    </tr>\n",
       "    <tr>\n",
       "      <th>5</th>\n",
       "      <td>The object has flashing lights that are green,...</td>\n",
       "      <td>Kirbyville</td>\n",
       "      <td>TX</td>\n",
       "      <td>2019-04-02 20:25:00</td>\n",
       "      <td>disk</td>\n",
       "      <td>15 minutes</td>\n",
       "      <td>145/S145476</td>\n",
       "      <td>2019-04-08</td>\n",
       "      <td>30.677200</td>\n",
       "      <td>-94.005200</td>\n",
       "      <td>2019.0</td>\n",
       "      <td>4.0</td>\n",
       "      <td>2.0</td>\n",
       "      <td>2019-04-02</td>\n",
       "    </tr>\n",
       "    <tr>\n",
       "      <th>6</th>\n",
       "      <td>Description is the same as Washington DC event...</td>\n",
       "      <td>Tucson</td>\n",
       "      <td>AZ</td>\n",
       "      <td>2019-05-01 11:00:00</td>\n",
       "      <td>unknown</td>\n",
       "      <td>5 minutes</td>\n",
       "      <td>145/S145947</td>\n",
       "      <td>2019-05-09</td>\n",
       "      <td>32.259941</td>\n",
       "      <td>-110.927542</td>\n",
       "      <td>2019.0</td>\n",
       "      <td>5.0</td>\n",
       "      <td>1.0</td>\n",
       "      <td>2019-05-01</td>\n",
       "    </tr>\n",
       "  </tbody>\n",
       "</table>\n",
       "</div>"
      ],
      "text/plain": [
       "                                             summary        city state  \\\n",
       "0  My wife was driving southeast on a fairly popu...     Chester    VA   \n",
       "1  I think that I may caught a UFO on the NBC Nig...  Rocky Hill    CT   \n",
       "3  I was driving towards the intersection of fall...      Ottawa    ON   \n",
       "5  The object has flashing lights that are green,...  Kirbyville    TX   \n",
       "6  Description is the same as Washington DC event...      Tucson    AZ   \n",
       "\n",
       "            date_time     shape    duration  report_link     posted  \\\n",
       "0 2019-12-12 18:43:00     light   5 seconds  151/S151739 2019-12-22   \n",
       "1 2019-03-22 18:30:00    circle   4 seconds  145/S145297 2019-03-29   \n",
       "3 2019-04-17 02:00:00  teardrop  10 seconds  145/S145697 2019-04-18   \n",
       "5 2019-04-02 20:25:00      disk  15 minutes  145/S145476 2019-04-08   \n",
       "6 2019-05-01 11:00:00   unknown   5 minutes  145/S145947 2019-05-09   \n",
       "\n",
       "   city_latitude  city_longitude  year_sighted  month_sighted  day_sighted  \\\n",
       "0      37.343152      -77.408582        2019.0           12.0         12.0   \n",
       "1      41.664800      -72.639300        2019.0            3.0         22.0   \n",
       "3      45.381383      -75.708501        2019.0            4.0         17.0   \n",
       "5      30.677200      -94.005200        2019.0            4.0          2.0   \n",
       "6      32.259941     -110.927542        2019.0            5.0          1.0   \n",
       "\n",
       "  date_sighted  \n",
       "0   2019-12-12  \n",
       "1   2019-03-22  \n",
       "3   2019-04-17  \n",
       "5   2019-04-02  \n",
       "6   2019-05-01  "
      ]
     },
     "execution_count": 41,
     "metadata": {},
     "output_type": "execute_result"
    }
   ],
   "source": [
    "new_df = df[(df[\"city_latitude\"].notna()) & (df[\"city_longitude\"].notna()) & (df[\"date_time\"].notna()) & ((df[\"state\"]!=\"no name\") | (df[\"city\"]!=\"no name\"))]\n",
    "new_df.head()"
   ]
  },
  {
   "cell_type": "code",
   "execution_count": 42,
   "id": "aae7b22e",
   "metadata": {},
   "outputs": [
    {
     "name": "stdout",
     "output_type": "stream",
     "text": [
      "<class 'pandas.core.frame.DataFrame'>\n",
      "Int64Index: 71184 entries, 0 to 88123\n",
      "Data columns (total 14 columns):\n",
      " #   Column          Non-Null Count  Dtype         \n",
      "---  ------          --------------  -----         \n",
      " 0   summary         71184 non-null  string        \n",
      " 1   city            71184 non-null  string        \n",
      " 2   state           71184 non-null  string        \n",
      " 3   date_time       71184 non-null  datetime64[ns]\n",
      " 4   shape           71184 non-null  string        \n",
      " 5   duration        68779 non-null  object        \n",
      " 6   report_link     71184 non-null  string        \n",
      " 7   posted          71184 non-null  datetime64[ns]\n",
      " 8   city_latitude   71184 non-null  float64       \n",
      " 9   city_longitude  71184 non-null  float64       \n",
      " 10  year_sighted    71184 non-null  float64       \n",
      " 11  month_sighted   71184 non-null  float64       \n",
      " 12  day_sighted     71184 non-null  float64       \n",
      " 13  date_sighted    71184 non-null  object        \n",
      "dtypes: datetime64[ns](2), float64(5), object(2), string(5)\n",
      "memory usage: 8.1+ MB\n"
     ]
    }
   ],
   "source": [
    "new_df.info()"
   ]
  },
  {
   "cell_type": "code",
   "execution_count": 43,
   "id": "f0caa85b",
   "metadata": {},
   "outputs": [],
   "source": [
    "new_df.set_index(\"date_sighted\", inplace=True)"
   ]
  },
  {
   "cell_type": "code",
   "execution_count": 44,
   "id": "4f89ff01",
   "metadata": {
    "scrolled": true
   },
   "outputs": [
    {
     "data": {
      "text/html": [
       "<div>\n",
       "<style scoped>\n",
       "    .dataframe tbody tr th:only-of-type {\n",
       "        vertical-align: middle;\n",
       "    }\n",
       "\n",
       "    .dataframe tbody tr th {\n",
       "        vertical-align: top;\n",
       "    }\n",
       "\n",
       "    .dataframe thead th {\n",
       "        text-align: right;\n",
       "    }\n",
       "</style>\n",
       "<table border=\"1\" class=\"dataframe\">\n",
       "  <thead>\n",
       "    <tr style=\"text-align: right;\">\n",
       "      <th></th>\n",
       "      <th>city_latitude</th>\n",
       "      <th>city_longitude</th>\n",
       "      <th>year_sighted</th>\n",
       "      <th>month_sighted</th>\n",
       "      <th>day_sighted</th>\n",
       "    </tr>\n",
       "  </thead>\n",
       "  <tbody>\n",
       "    <tr>\n",
       "      <th>count</th>\n",
       "      <td>71184.000000</td>\n",
       "      <td>71184.000000</td>\n",
       "      <td>71184.000000</td>\n",
       "      <td>71184.000000</td>\n",
       "      <td>71184.00000</td>\n",
       "    </tr>\n",
       "    <tr>\n",
       "      <th>mean</th>\n",
       "      <td>38.548094</td>\n",
       "      <td>-94.486348</td>\n",
       "      <td>2011.325621</td>\n",
       "      <td>6.967212</td>\n",
       "      <td>15.25014</td>\n",
       "    </tr>\n",
       "    <tr>\n",
       "      <th>std</th>\n",
       "      <td>5.712516</td>\n",
       "      <td>18.136385</td>\n",
       "      <td>7.118510</td>\n",
       "      <td>3.230114</td>\n",
       "      <td>8.93869</td>\n",
       "    </tr>\n",
       "    <tr>\n",
       "      <th>min</th>\n",
       "      <td>-32.055500</td>\n",
       "      <td>-170.494000</td>\n",
       "      <td>1969.000000</td>\n",
       "      <td>1.000000</td>\n",
       "      <td>1.00000</td>\n",
       "    </tr>\n",
       "    <tr>\n",
       "      <th>25%</th>\n",
       "      <td>34.159313</td>\n",
       "      <td>-112.049460</td>\n",
       "      <td>2009.000000</td>\n",
       "      <td>4.000000</td>\n",
       "      <td>7.00000</td>\n",
       "    </tr>\n",
       "    <tr>\n",
       "      <th>50%</th>\n",
       "      <td>39.125200</td>\n",
       "      <td>-88.144666</td>\n",
       "      <td>2013.000000</td>\n",
       "      <td>7.000000</td>\n",
       "      <td>15.00000</td>\n",
       "    </tr>\n",
       "    <tr>\n",
       "      <th>75%</th>\n",
       "      <td>42.206100</td>\n",
       "      <td>-80.183389</td>\n",
       "      <td>2015.000000</td>\n",
       "      <td>10.000000</td>\n",
       "      <td>23.00000</td>\n",
       "    </tr>\n",
       "    <tr>\n",
       "      <th>max</th>\n",
       "      <td>64.845276</td>\n",
       "      <td>116.000000</td>\n",
       "      <td>2019.000000</td>\n",
       "      <td>12.000000</td>\n",
       "      <td>31.00000</td>\n",
       "    </tr>\n",
       "  </tbody>\n",
       "</table>\n",
       "</div>"
      ],
      "text/plain": [
       "       city_latitude  city_longitude  year_sighted  month_sighted  day_sighted\n",
       "count   71184.000000    71184.000000  71184.000000   71184.000000  71184.00000\n",
       "mean       38.548094      -94.486348   2011.325621       6.967212     15.25014\n",
       "std         5.712516       18.136385      7.118510       3.230114      8.93869\n",
       "min       -32.055500     -170.494000   1969.000000       1.000000      1.00000\n",
       "25%        34.159313     -112.049460   2009.000000       4.000000      7.00000\n",
       "50%        39.125200      -88.144666   2013.000000       7.000000     15.00000\n",
       "75%        42.206100      -80.183389   2015.000000      10.000000     23.00000\n",
       "max        64.845276      116.000000   2019.000000      12.000000     31.00000"
      ]
     },
     "execution_count": 44,
     "metadata": {},
     "output_type": "execute_result"
    }
   ],
   "source": [
    "new_df.describe()"
   ]
  },
  {
   "cell_type": "code",
   "execution_count": 45,
   "id": "6d4491a4",
   "metadata": {},
   "outputs": [
    {
     "data": {
      "text/html": [
       "<div>\n",
       "<style scoped>\n",
       "    .dataframe tbody tr th:only-of-type {\n",
       "        vertical-align: middle;\n",
       "    }\n",
       "\n",
       "    .dataframe tbody tr th {\n",
       "        vertical-align: top;\n",
       "    }\n",
       "\n",
       "    .dataframe thead th {\n",
       "        text-align: right;\n",
       "    }\n",
       "</style>\n",
       "<table border=\"1\" class=\"dataframe\">\n",
       "  <thead>\n",
       "    <tr style=\"text-align: right;\">\n",
       "      <th></th>\n",
       "      <th>city_latitude</th>\n",
       "      <th>city_longitude</th>\n",
       "      <th>year_sighted</th>\n",
       "      <th>month_sighted</th>\n",
       "      <th>day_sighted</th>\n",
       "    </tr>\n",
       "  </thead>\n",
       "  <tbody>\n",
       "    <tr>\n",
       "      <th>count</th>\n",
       "      <td>72013.000000</td>\n",
       "      <td>72013.000000</td>\n",
       "      <td>86938.000000</td>\n",
       "      <td>86938.000000</td>\n",
       "      <td>86938.000000</td>\n",
       "    </tr>\n",
       "    <tr>\n",
       "      <th>mean</th>\n",
       "      <td>38.550953</td>\n",
       "      <td>-94.469395</td>\n",
       "      <td>2011.079413</td>\n",
       "      <td>6.948653</td>\n",
       "      <td>15.253502</td>\n",
       "    </tr>\n",
       "    <tr>\n",
       "      <th>std</th>\n",
       "      <td>5.707888</td>\n",
       "      <td>18.127564</td>\n",
       "      <td>7.384418</td>\n",
       "      <td>3.226151</td>\n",
       "      <td>8.936703</td>\n",
       "    </tr>\n",
       "    <tr>\n",
       "      <th>min</th>\n",
       "      <td>-32.055500</td>\n",
       "      <td>-170.494000</td>\n",
       "      <td>1969.000000</td>\n",
       "      <td>1.000000</td>\n",
       "      <td>1.000000</td>\n",
       "    </tr>\n",
       "    <tr>\n",
       "      <th>25%</th>\n",
       "      <td>34.164800</td>\n",
       "      <td>-112.049460</td>\n",
       "      <td>2009.000000</td>\n",
       "      <td>4.000000</td>\n",
       "      <td>7.000000</td>\n",
       "    </tr>\n",
       "    <tr>\n",
       "      <th>50%</th>\n",
       "      <td>39.127175</td>\n",
       "      <td>-88.144270</td>\n",
       "      <td>2012.000000</td>\n",
       "      <td>7.000000</td>\n",
       "      <td>15.000000</td>\n",
       "    </tr>\n",
       "    <tr>\n",
       "      <th>75%</th>\n",
       "      <td>42.203500</td>\n",
       "      <td>-80.173166</td>\n",
       "      <td>2015.000000</td>\n",
       "      <td>10.000000</td>\n",
       "      <td>23.000000</td>\n",
       "    </tr>\n",
       "    <tr>\n",
       "      <th>max</th>\n",
       "      <td>64.845276</td>\n",
       "      <td>116.000000</td>\n",
       "      <td>2019.000000</td>\n",
       "      <td>12.000000</td>\n",
       "      <td>31.000000</td>\n",
       "    </tr>\n",
       "  </tbody>\n",
       "</table>\n",
       "</div>"
      ],
      "text/plain": [
       "       city_latitude  city_longitude  year_sighted  month_sighted  \\\n",
       "count   72013.000000    72013.000000  86938.000000   86938.000000   \n",
       "mean       38.550953      -94.469395   2011.079413       6.948653   \n",
       "std         5.707888       18.127564      7.384418       3.226151   \n",
       "min       -32.055500     -170.494000   1969.000000       1.000000   \n",
       "25%        34.164800     -112.049460   2009.000000       4.000000   \n",
       "50%        39.127175      -88.144270   2012.000000       7.000000   \n",
       "75%        42.203500      -80.173166   2015.000000      10.000000   \n",
       "max        64.845276      116.000000   2019.000000      12.000000   \n",
       "\n",
       "        day_sighted  \n",
       "count  86938.000000  \n",
       "mean      15.253502  \n",
       "std        8.936703  \n",
       "min        1.000000  \n",
       "25%        7.000000  \n",
       "50%       15.000000  \n",
       "75%       23.000000  \n",
       "max       31.000000  "
      ]
     },
     "execution_count": 45,
     "metadata": {},
     "output_type": "execute_result"
    }
   ],
   "source": [
    "df.describe()"
   ]
  },
  {
   "cell_type": "code",
   "execution_count": null,
   "id": "9a5dba48",
   "metadata": {},
   "outputs": [],
   "source": []
  }
 ],
 "metadata": {
  "kernelspec": {
   "display_name": "Python 3 (ipykernel)",
   "language": "python",
   "name": "python3"
  },
  "language_info": {
   "codemirror_mode": {
    "name": "ipython",
    "version": 3
   },
   "file_extension": ".py",
   "mimetype": "text/x-python",
   "name": "python",
   "nbconvert_exporter": "python",
   "pygments_lexer": "ipython3",
   "version": "3.11.4"
  }
 },
 "nbformat": 4,
 "nbformat_minor": 5
}
